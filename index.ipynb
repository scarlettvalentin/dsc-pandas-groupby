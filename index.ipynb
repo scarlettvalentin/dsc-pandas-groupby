{
 "cells": [
  {
   "cell_type": "markdown",
   "metadata": {},
   "source": [
    "# Pandas Groupby\n",
    "\n",
    "\n",
    "## Introduction\n",
    "\n",
    "In this lab, you'll learn how to use the `.groupby()` method in Pandas to summarize datasets.\n",
    "\n",
    "## Objectives\n",
    "You will be able to: \n",
    "\n",
    "- Use groupby methods to aggregate different groups in a dataframe\n"
   ]
  },
  {
   "cell_type": "markdown",
   "metadata": {},
   "source": [
    "## Using `.groupby()` \n",
    "\n",
    "Let's bring in the Titantic data set."
   ]
  },
  {
   "cell_type": "code",
   "execution_count": 1,
   "metadata": {},
   "outputs": [
    {
     "data": {
      "text/html": [
       "<div>\n",
       "<style scoped>\n",
       "    .dataframe tbody tr th:only-of-type {\n",
       "        vertical-align: middle;\n",
       "    }\n",
       "\n",
       "    .dataframe tbody tr th {\n",
       "        vertical-align: top;\n",
       "    }\n",
       "\n",
       "    .dataframe thead th {\n",
       "        text-align: right;\n",
       "    }\n",
       "</style>\n",
       "<table border=\"1\" class=\"dataframe\">\n",
       "  <thead>\n",
       "    <tr style=\"text-align: right;\">\n",
       "      <th></th>\n",
       "      <th>PassengerId</th>\n",
       "      <th>Survived</th>\n",
       "      <th>Pclass</th>\n",
       "      <th>Sex</th>\n",
       "      <th>Age</th>\n",
       "      <th>SibSp</th>\n",
       "      <th>Parch</th>\n",
       "      <th>Fare</th>\n",
       "    </tr>\n",
       "  </thead>\n",
       "  <tbody>\n",
       "    <tr>\n",
       "      <th>0</th>\n",
       "      <td>1.0</td>\n",
       "      <td>0.0</td>\n",
       "      <td>3</td>\n",
       "      <td>male</td>\n",
       "      <td>22.0</td>\n",
       "      <td>1.0</td>\n",
       "      <td>0.0</td>\n",
       "      <td>7.2500</td>\n",
       "    </tr>\n",
       "    <tr>\n",
       "      <th>1</th>\n",
       "      <td>2.0</td>\n",
       "      <td>1.0</td>\n",
       "      <td>1</td>\n",
       "      <td>female</td>\n",
       "      <td>38.0</td>\n",
       "      <td>1.0</td>\n",
       "      <td>0.0</td>\n",
       "      <td>71.2833</td>\n",
       "    </tr>\n",
       "    <tr>\n",
       "      <th>2</th>\n",
       "      <td>3.0</td>\n",
       "      <td>1.0</td>\n",
       "      <td>3</td>\n",
       "      <td>female</td>\n",
       "      <td>26.0</td>\n",
       "      <td>0.0</td>\n",
       "      <td>0.0</td>\n",
       "      <td>7.9250</td>\n",
       "    </tr>\n",
       "    <tr>\n",
       "      <th>3</th>\n",
       "      <td>4.0</td>\n",
       "      <td>1.0</td>\n",
       "      <td>1</td>\n",
       "      <td>female</td>\n",
       "      <td>35.0</td>\n",
       "      <td>1.0</td>\n",
       "      <td>0.0</td>\n",
       "      <td>53.1000</td>\n",
       "    </tr>\n",
       "    <tr>\n",
       "      <th>4</th>\n",
       "      <td>5.0</td>\n",
       "      <td>0.0</td>\n",
       "      <td>3</td>\n",
       "      <td>male</td>\n",
       "      <td>35.0</td>\n",
       "      <td>0.0</td>\n",
       "      <td>0.0</td>\n",
       "      <td>8.0500</td>\n",
       "    </tr>\n",
       "  </tbody>\n",
       "</table>\n",
       "</div>"
      ],
      "text/plain": [
       "   PassengerId  Survived Pclass     Sex   Age  SibSp  Parch     Fare\n",
       "0          1.0       0.0      3    male  22.0    1.0    0.0   7.2500\n",
       "1          2.0       1.0      1  female  38.0    1.0    0.0  71.2833\n",
       "2          3.0       1.0      3  female  26.0    0.0    0.0   7.9250\n",
       "3          4.0       1.0      1  female  35.0    1.0    0.0  53.1000\n",
       "4          5.0       0.0      3    male  35.0    0.0    0.0   8.0500"
      ]
     },
     "execution_count": 1,
     "metadata": {},
     "output_type": "execute_result"
    }
   ],
   "source": [
    "import pandas as pd\n",
    "\n",
    "df = pd.read_csv('titanic.csv')\n",
    "df = df.drop(columns=['Name','Ticket','Embarked', 'Cabin'])\n",
    "df = df.dropna()\n",
    "df.head()"
   ]
  },
  {
   "cell_type": "markdown",
   "metadata": {},
   "source": [
    "During the Exploratory Data Analysis phase, one of the most common tasks you'll want to do is split the dataset into subgroups and compare them to see if you can notice any trends.  For instance, you may want to group the passengers together by gender or age. You can do this by using the `.groupby()` method built-in to pandas DataFrames. \n",
    "\n",
    "To group passengers by gender, you would type:"
   ]
  },
  {
   "cell_type": "code",
   "execution_count": 2,
   "metadata": {},
   "outputs": [
    {
     "data": {
      "text/plain": [
       "<pandas.core.groupby.generic.DataFrameGroupBy object at 0x10616b010>"
      ]
     },
     "execution_count": 2,
     "metadata": {},
     "output_type": "execute_result"
    }
   ],
   "source": [
    "df.groupby('Sex')"
   ]
  },
  {
   "cell_type": "code",
   "execution_count": 3,
   "metadata": {},
   "outputs": [
    {
     "data": {
      "text/plain": [
       "<pandas.core.groupby.generic.DataFrameGroupBy object at 0x11de31b10>"
      ]
     },
     "execution_count": 3,
     "metadata": {},
     "output_type": "execute_result"
    }
   ],
   "source": [
    "# This line of code is equivalent to the one above\n",
    "df.groupby(df['Sex'])"
   ]
  },
  {
   "cell_type": "markdown",
   "metadata": {},
   "source": [
    "Note that this alone will not display a result -- although you have split the dataset into groups, you don't have a meaningful way to display information until you chain an **_Aggregation Function_** onto the groupby.  This allows you to compute summary statistics.\n",
    "\n",
    "You can quickly use an aggregation function by chaining the call to the end of the `.groupby()` method."
   ]
  },
  {
   "cell_type": "code",
   "execution_count": 4,
   "metadata": {},
   "outputs": [
    {
     "data": {
      "text/html": [
       "<div>\n",
       "<style scoped>\n",
       "    .dataframe tbody tr th:only-of-type {\n",
       "        vertical-align: middle;\n",
       "    }\n",
       "\n",
       "    .dataframe tbody tr th {\n",
       "        vertical-align: top;\n",
       "    }\n",
       "\n",
       "    .dataframe thead th {\n",
       "        text-align: right;\n",
       "    }\n",
       "</style>\n",
       "<table border=\"1\" class=\"dataframe\">\n",
       "  <thead>\n",
       "    <tr style=\"text-align: right;\">\n",
       "      <th></th>\n",
       "      <th>PassengerId</th>\n",
       "      <th>Survived</th>\n",
       "      <th>Pclass</th>\n",
       "      <th>Age</th>\n",
       "      <th>SibSp</th>\n",
       "      <th>Parch</th>\n",
       "      <th>Fare</th>\n",
       "    </tr>\n",
       "    <tr>\n",
       "      <th>Sex</th>\n",
       "      <th></th>\n",
       "      <th></th>\n",
       "      <th></th>\n",
       "      <th></th>\n",
       "      <th></th>\n",
       "      <th></th>\n",
       "      <th></th>\n",
       "    </tr>\n",
       "  </thead>\n",
       "  <tbody>\n",
       "    <tr>\n",
       "      <th>female</th>\n",
       "      <td>267590.0</td>\n",
       "      <td>284.0</td>\n",
       "      <td>131323132333?33322331222?2333231233333?2321333...</td>\n",
       "      <td>12812.85</td>\n",
       "      <td>838.0</td>\n",
       "      <td>765.0</td>\n",
       "      <td>19208.2047</td>\n",
       "    </tr>\n",
       "    <tr>\n",
       "      <th>male</th>\n",
       "      <td>384203.0</td>\n",
       "      <td>191.0</td>\n",
       "      <td>331333322111211?3313331333223332?3133331331121...</td>\n",
       "      <td>23133.01</td>\n",
       "      <td>997.0</td>\n",
       "      <td>775.0</td>\n",
       "      <td>21465.1410</td>\n",
       "    </tr>\n",
       "  </tbody>\n",
       "</table>\n",
       "</div>"
      ],
      "text/plain": [
       "        PassengerId  Survived  \\\n",
       "Sex                             \n",
       "female     267590.0     284.0   \n",
       "male       384203.0     191.0   \n",
       "\n",
       "                                                   Pclass       Age  SibSp  \\\n",
       "Sex                                                                          \n",
       "female  131323132333?33322331222?2333231233333?2321333...  12812.85  838.0   \n",
       "male    331333322111211?3313331333223332?3133331331121...  23133.01  997.0   \n",
       "\n",
       "        Parch        Fare  \n",
       "Sex                        \n",
       "female  765.0  19208.2047  \n",
       "male    775.0  21465.1410  "
      ]
     },
     "execution_count": 4,
     "metadata": {},
     "output_type": "execute_result"
    }
   ],
   "source": [
    "df.groupby('Sex').sum()"
   ]
  },
  {
   "cell_type": "markdown",
   "metadata": {},
   "source": [
    "You can use aggregation functions to quickly help us compare subsets of our data.  For example, the aggregate statistics displayed above allow you to quickly notice that there were more female survivors overall than male survivors."
   ]
  },
  {
   "cell_type": "markdown",
   "metadata": {},
   "source": [
    "## Aggregation functions\n",
    "\n",
    "\n",
    "There are many built-in aggregate methods provided for you in the `pandas` package, and you can even write and apply your own. Some of the most common aggregate methods you may want to use are:\n",
    "\n",
    "* `.min()`: returns the minimum value for each column by group  \n",
    "* `.max()`: returns the maximum value for each column by group  \n",
    "* `.mean()`: returns the average value for each column by group  \n",
    "* `.median()`: returns the median value for each column by group  \n",
    "* `.count()`: returns the count of each column by group\n",
    "\n",
    "\n",
    "You can also see a list of all of the built-in aggregation methods by creating a grouped object and then using tab completion to inspect the available methods:"
   ]
  },
  {
   "cell_type": "code",
   "execution_count": 8,
   "metadata": {},
   "outputs": [],
   "source": [
    "grouped_df = df.groupby('Sex')\n",
    "# For the following line of code, remove the `#` and then hit the tab after the period.\n",
    "# grouped_df.<TAB>"
   ]
  },
  {
   "cell_type": "code",
   "execution_count": 10,
   "metadata": {},
   "outputs": [
    {
     "data": {
      "text/plain": [
       "female         Axes(0.1,0.15;0.363636x0.75)\n",
       "male      Axes(0.536364,0.15;0.363636x0.75)\n",
       "dtype: object"
      ]
     },
     "execution_count": 10,
     "metadata": {},
     "output_type": "execute_result"
    },
    {
     "data": {
      "image/png": "[encoded data removed]",
      "text/plain": [
       "<Figure size 640x480 with 2 Axes>"
      ]
     },
     "metadata": {},
     "output_type": "display_data"
    }
   ],
   "source": [
    "grouped_df.boxplot(rot=40)"
   ]
  },
  {
   "cell_type": "markdown",
   "metadata": {},
   "source": [
    "This will display the following output:\n",
    "\n",
    "```In [26]: grouped_df.<TAB>\n",
    "gb.agg        gb.boxplot    gb.cummin     gb.describe   gb.filter     gb.get_group  gb.height     gb.last       gb.median     gb.ngroups    gb.plot       gb.rank       gb.std        gb.transform\n",
    "gb.aggregate  gb.count      gb.cumprod    gb.dtype      gb.first      gb.groups     gb.hist       gb.max        gb.min        gb.nth        gb.prod       gb.resample   gb.sum        gb.var\n",
    "gb.apply      gb.cummax     gb.cumsum     gb.fillna     gb.gender     gb.head       gb.indices    gb.mean       gb.name       gb.ohlc       gb.quantile   gb.size       gb.tail       gb.weight```\n",
    "```\n",
    "\n",
    "This is a comprehensive list of all built-in methods available to grouped objects. Note that some are aggregation methods, while others, such as `gb.fillna()`, allow us to fill missing values to individual groups independently.  "
   ]
  },
  {
   "cell_type": "markdown",
   "metadata": {},
   "source": [
    "## Multiple groups\n",
    "\n",
    "You can also split data into multiple different levels of groups by passing in an array containing the name of every column you want to group by -- for instance, by every combination of both `Sex` and `Pclass`.   "
   ]
  },
  {
   "cell_type": "code",
   "execution_count": 11,
   "metadata": {},
   "outputs": [
    {
     "data": {
      "text/html": [
       "<div>\n",
       "<style scoped>\n",
       "    .dataframe tbody tr th:only-of-type {\n",
       "        vertical-align: middle;\n",
       "    }\n",
       "\n",
       "    .dataframe tbody tr th {\n",
       "        vertical-align: top;\n",
       "    }\n",
       "\n",
       "    .dataframe thead th {\n",
       "        text-align: right;\n",
       "    }\n",
       "</style>\n",
       "<table border=\"1\" class=\"dataframe\">\n",
       "  <thead>\n",
       "    <tr style=\"text-align: right;\">\n",
       "      <th></th>\n",
       "      <th></th>\n",
       "      <th>PassengerId</th>\n",
       "      <th>Survived</th>\n",
       "      <th>Age</th>\n",
       "      <th>SibSp</th>\n",
       "      <th>Parch</th>\n",
       "      <th>Fare</th>\n",
       "    </tr>\n",
       "    <tr>\n",
       "      <th>Sex</th>\n",
       "      <th>Pclass</th>\n",
       "      <th></th>\n",
       "      <th></th>\n",
       "      <th></th>\n",
       "      <th></th>\n",
       "      <th></th>\n",
       "      <th></th>\n",
       "    </tr>\n",
       "  </thead>\n",
       "  <tbody>\n",
       "    <tr>\n",
       "      <th rowspan=\"4\" valign=\"top\">female</th>\n",
       "      <th>1</th>\n",
       "      <td>594.965812</td>\n",
       "      <td>0.811966</td>\n",
       "      <td>34.098291</td>\n",
       "      <td>1.521368</td>\n",
       "      <td>1.538462</td>\n",
       "      <td>84.552209</td>\n",
       "    </tr>\n",
       "    <tr>\n",
       "      <th>2</th>\n",
       "      <td>602.647059</td>\n",
       "      <td>0.722689</td>\n",
       "      <td>26.338992</td>\n",
       "      <td>1.605042</td>\n",
       "      <td>1.596639</td>\n",
       "      <td>26.989777</td>\n",
       "    </tr>\n",
       "    <tr>\n",
       "      <th>3</th>\n",
       "      <td>550.912162</td>\n",
       "      <td>0.466216</td>\n",
       "      <td>25.677973</td>\n",
       "      <td>1.858108</td>\n",
       "      <td>1.810811</td>\n",
       "      <td>21.144596</td>\n",
       "    </tr>\n",
       "    <tr>\n",
       "      <th>?</th>\n",
       "      <td>758.118644</td>\n",
       "      <td>0.576271</td>\n",
       "      <td>32.011356</td>\n",
       "      <td>3.288136</td>\n",
       "      <td>2.152542</td>\n",
       "      <td>50.413771</td>\n",
       "    </tr>\n",
       "    <tr>\n",
       "      <th rowspan=\"4\" valign=\"top\">male</th>\n",
       "      <th>1</th>\n",
       "      <td>601.886792</td>\n",
       "      <td>0.415094</td>\n",
       "      <td>38.287799</td>\n",
       "      <td>1.440252</td>\n",
       "      <td>1.490566</td>\n",
       "      <td>56.046671</td>\n",
       "    </tr>\n",
       "    <tr>\n",
       "      <th>2</th>\n",
       "      <td>587.170068</td>\n",
       "      <td>0.258503</td>\n",
       "      <td>31.630340</td>\n",
       "      <td>1.414966</td>\n",
       "      <td>1.122449</td>\n",
       "      <td>29.693905</td>\n",
       "    </tr>\n",
       "    <tr>\n",
       "      <th>3</th>\n",
       "      <td>377.919060</td>\n",
       "      <td>0.151436</td>\n",
       "      <td>25.757624</td>\n",
       "      <td>0.973890</td>\n",
       "      <td>0.506527</td>\n",
       "      <td>15.446343</td>\n",
       "    </tr>\n",
       "    <tr>\n",
       "      <th>?</th>\n",
       "      <td>746.051948</td>\n",
       "      <td>0.376623</td>\n",
       "      <td>32.862597</td>\n",
       "      <td>2.428571</td>\n",
       "      <td>2.324675</td>\n",
       "      <td>29.516452</td>\n",
       "    </tr>\n",
       "  </tbody>\n",
       "</table>\n",
       "</div>"
      ],
      "text/plain": [
       "               PassengerId  Survived        Age     SibSp     Parch       Fare\n",
       "Sex    Pclass                                                                 \n",
       "female 1        594.965812  0.811966  34.098291  1.521368  1.538462  84.552209\n",
       "       2        602.647059  0.722689  26.338992  1.605042  1.596639  26.989777\n",
       "       3        550.912162  0.466216  25.677973  1.858108  1.810811  21.144596\n",
       "       ?        758.118644  0.576271  32.011356  3.288136  2.152542  50.413771\n",
       "male   1        601.886792  0.415094  38.287799  1.440252  1.490566  56.046671\n",
       "       2        587.170068  0.258503  31.630340  1.414966  1.122449  29.693905\n",
       "       3        377.919060  0.151436  25.757624  0.973890  0.506527  15.446343\n",
       "       ?        746.051948  0.376623  32.862597  2.428571  2.324675  29.516452"
      ]
     },
     "execution_count": 11,
     "metadata": {},
     "output_type": "execute_result"
    }
   ],
   "source": [
    "df.groupby(['Sex', 'Pclass']).mean()"
   ]
  },
  {
   "cell_type": "code",
   "execution_count": 13,
   "metadata": {},
   "outputs": [
    {
     "ename": "IndexingError",
     "evalue": "Too many indexers",
     "output_type": "error",
     "traceback": [
      "\u001b[0;31m---------------------------------------------------------------------------\u001b[0m",
      "\u001b[0;31mIndexingError\u001b[0m                             Traceback (most recent call last)",
      "Cell \u001b[0;32mIn[13], line 2\u001b[0m\n\u001b[1;32m      1\u001b[0m new_group \u001b[38;5;241m=\u001b[39m df\u001b[38;5;241m.\u001b[39mgroupby([\u001b[38;5;124m'\u001b[39m\u001b[38;5;124mSex\u001b[39m\u001b[38;5;124m'\u001b[39m, \u001b[38;5;124m'\u001b[39m\u001b[38;5;124mPclass\u001b[39m\u001b[38;5;124m'\u001b[39m])\n\u001b[0;32m----> 2\u001b[0m new_group\u001b[38;5;241m.\u001b[39mboxplot()\n",
      "File \u001b[0;32m~/anaconda3/lib/python3.11/site-packages/pandas/plotting/_core.py:619\u001b[0m, in \u001b[0;36mboxplot_frame_groupby\u001b[0;34m(grouped, subplots, column, fontsize, rot, grid, ax, figsize, layout, sharex, sharey, backend, **kwargs)\u001b[0m\n\u001b[1;32m    559\u001b[0m \u001b[38;5;250m\u001b[39m\u001b[38;5;124;03m\"\"\"\u001b[39;00m\n\u001b[1;32m    560\u001b[0m \u001b[38;5;124;03mMake box plots from DataFrameGroupBy data.\u001b[39;00m\n\u001b[1;32m    561\u001b[0m \n\u001b[0;32m   (...)\u001b[0m\n\u001b[1;32m    616\u001b[0m \u001b[38;5;124;03m    >>> grouped.boxplot(subplots=False, rot=45, fontsize=12)  # doctest: +SKIP\u001b[39;00m\n\u001b[1;32m    617\u001b[0m \u001b[38;5;124;03m\"\"\"\u001b[39;00m\n\u001b[1;32m    618\u001b[0m plot_backend \u001b[38;5;241m=\u001b[39m _get_plot_backend(backend)\n\u001b[0;32m--> 619\u001b[0m \u001b[38;5;28;01mreturn\u001b[39;00m plot_backend\u001b[38;5;241m.\u001b[39mboxplot_frame_groupby(\n\u001b[1;32m    620\u001b[0m     grouped,\n\u001b[1;32m    621\u001b[0m     subplots\u001b[38;5;241m=\u001b[39msubplots,\n\u001b[1;32m    622\u001b[0m     column\u001b[38;5;241m=\u001b[39mcolumn,\n\u001b[1;32m    623\u001b[0m     fontsize\u001b[38;5;241m=\u001b[39mfontsize,\n\u001b[1;32m    624\u001b[0m     rot\u001b[38;5;241m=\u001b[39mrot,\n\u001b[1;32m    625\u001b[0m     grid\u001b[38;5;241m=\u001b[39mgrid,\n\u001b[1;32m    626\u001b[0m     ax\u001b[38;5;241m=\u001b[39max,\n\u001b[1;32m    627\u001b[0m     figsize\u001b[38;5;241m=\u001b[39mfigsize,\n\u001b[1;32m    628\u001b[0m     layout\u001b[38;5;241m=\u001b[39mlayout,\n\u001b[1;32m    629\u001b[0m     sharex\u001b[38;5;241m=\u001b[39msharex,\n\u001b[1;32m    630\u001b[0m     sharey\u001b[38;5;241m=\u001b[39msharey,\n\u001b[1;32m    631\u001b[0m     \u001b[38;5;241m*\u001b[39m\u001b[38;5;241m*\u001b[39mkwargs,\n\u001b[1;32m    632\u001b[0m )\n",
      "File \u001b[0;32m~/anaconda3/lib/python3.11/site-packages/pandas/plotting/_matplotlib/boxplot.py:521\u001b[0m, in \u001b[0;36mboxplot_frame_groupby\u001b[0;34m(grouped, subplots, column, fontsize, rot, grid, ax, figsize, layout, sharex, sharey, **kwds)\u001b[0m\n\u001b[1;32m    517\u001b[0m         d \u001b[38;5;241m=\u001b[39m group\u001b[38;5;241m.\u001b[39mboxplot(\n\u001b[1;32m    518\u001b[0m             ax\u001b[38;5;241m=\u001b[39max, column\u001b[38;5;241m=\u001b[39mcolumn, fontsize\u001b[38;5;241m=\u001b[39mfontsize, rot\u001b[38;5;241m=\u001b[39mrot, grid\u001b[38;5;241m=\u001b[39mgrid, \u001b[38;5;241m*\u001b[39m\u001b[38;5;241m*\u001b[39mkwds\n\u001b[1;32m    519\u001b[0m         )\n\u001b[1;32m    520\u001b[0m         ax\u001b[38;5;241m.\u001b[39mset_title(pprint_thing(key))\n\u001b[0;32m--> 521\u001b[0m         ret\u001b[38;5;241m.\u001b[39mloc[key] \u001b[38;5;241m=\u001b[39m d\n\u001b[1;32m    522\u001b[0m     maybe_adjust_figure(fig, bottom\u001b[38;5;241m=\u001b[39m\u001b[38;5;241m0.15\u001b[39m, top\u001b[38;5;241m=\u001b[39m\u001b[38;5;241m0.9\u001b[39m, left\u001b[38;5;241m=\u001b[39m\u001b[38;5;241m0.1\u001b[39m, right\u001b[38;5;241m=\u001b[39m\u001b[38;5;241m0.9\u001b[39m, wspace\u001b[38;5;241m=\u001b[39m\u001b[38;5;241m0.2\u001b[39m)\n\u001b[1;32m    523\u001b[0m \u001b[38;5;28;01melse\u001b[39;00m:\n",
      "File \u001b[0;32m~/anaconda3/lib/python3.11/site-packages/pandas/core/indexing.py:881\u001b[0m, in \u001b[0;36m_LocationIndexer.__setitem__\u001b[0;34m(self, key, value)\u001b[0m\n\u001b[1;32m    879\u001b[0m \u001b[38;5;28;01melse\u001b[39;00m:\n\u001b[1;32m    880\u001b[0m     key \u001b[38;5;241m=\u001b[39m com\u001b[38;5;241m.\u001b[39mapply_if_callable(key, \u001b[38;5;28mself\u001b[39m\u001b[38;5;241m.\u001b[39mobj)\n\u001b[0;32m--> 881\u001b[0m indexer \u001b[38;5;241m=\u001b[39m \u001b[38;5;28mself\u001b[39m\u001b[38;5;241m.\u001b[39m_get_setitem_indexer(key)\n\u001b[1;32m    882\u001b[0m \u001b[38;5;28mself\u001b[39m\u001b[38;5;241m.\u001b[39m_has_valid_setitem_indexer(key)\n\u001b[1;32m    884\u001b[0m iloc \u001b[38;5;241m=\u001b[39m \u001b[38;5;28mself\u001b[39m \u001b[38;5;28;01mif\u001b[39;00m \u001b[38;5;28mself\u001b[39m\u001b[38;5;241m.\u001b[39mname \u001b[38;5;241m==\u001b[39m \u001b[38;5;124m\"\u001b[39m\u001b[38;5;124miloc\u001b[39m\u001b[38;5;124m\"\u001b[39m \u001b[38;5;28;01melse\u001b[39;00m \u001b[38;5;28mself\u001b[39m\u001b[38;5;241m.\u001b[39mobj\u001b[38;5;241m.\u001b[39miloc\n",
      "File \u001b[0;32m~/anaconda3/lib/python3.11/site-packages/pandas/core/indexing.py:764\u001b[0m, in \u001b[0;36m_LocationIndexer._get_setitem_indexer\u001b[0;34m(self, key)\u001b[0m\n\u001b[1;32m    760\u001b[0m \u001b[38;5;28;01mif\u001b[39;00m \u001b[38;5;28misinstance\u001b[39m(key, \u001b[38;5;28mrange\u001b[39m):\n\u001b[1;32m    761\u001b[0m     \u001b[38;5;66;03m# GH#45479 test_loc_setitem_range_key\u001b[39;00m\n\u001b[1;32m    762\u001b[0m     key \u001b[38;5;241m=\u001b[39m \u001b[38;5;28mlist\u001b[39m(key)\n\u001b[0;32m--> 764\u001b[0m \u001b[38;5;28;01mreturn\u001b[39;00m \u001b[38;5;28mself\u001b[39m\u001b[38;5;241m.\u001b[39m_convert_to_indexer(key, axis\u001b[38;5;241m=\u001b[39m\u001b[38;5;241m0\u001b[39m)\n",
      "File \u001b[0;32m~/anaconda3/lib/python3.11/site-packages/pandas/core/indexing.py:1440\u001b[0m, in \u001b[0;36m_LocIndexer._convert_to_indexer\u001b[0;34m(self, key, axis)\u001b[0m\n\u001b[1;32m   1432\u001b[0m     \u001b[38;5;28;01mreturn\u001b[39;00m labels\u001b[38;5;241m.\u001b[39m_convert_slice_indexer(key, kind\u001b[38;5;241m=\u001b[39m\u001b[38;5;124m\"\u001b[39m\u001b[38;5;124mloc\u001b[39m\u001b[38;5;124m\"\u001b[39m)\n\u001b[1;32m   1434\u001b[0m \u001b[38;5;28;01mif\u001b[39;00m (\n\u001b[1;32m   1435\u001b[0m     \u001b[38;5;28misinstance\u001b[39m(key, \u001b[38;5;28mtuple\u001b[39m)\n\u001b[1;32m   1436\u001b[0m     \u001b[38;5;129;01mand\u001b[39;00m \u001b[38;5;129;01mnot\u001b[39;00m \u001b[38;5;28misinstance\u001b[39m(labels, MultiIndex)\n\u001b[1;32m   1437\u001b[0m     \u001b[38;5;129;01mand\u001b[39;00m \u001b[38;5;28mself\u001b[39m\u001b[38;5;241m.\u001b[39mndim \u001b[38;5;241m<\u001b[39m \u001b[38;5;241m2\u001b[39m\n\u001b[1;32m   1438\u001b[0m     \u001b[38;5;129;01mand\u001b[39;00m \u001b[38;5;28mlen\u001b[39m(key) \u001b[38;5;241m>\u001b[39m \u001b[38;5;241m1\u001b[39m\n\u001b[1;32m   1439\u001b[0m ):\n\u001b[0;32m-> 1440\u001b[0m     \u001b[38;5;28;01mraise\u001b[39;00m IndexingError(\u001b[38;5;124m\"\u001b[39m\u001b[38;5;124mToo many indexers\u001b[39m\u001b[38;5;124m\"\u001b[39m)\n\u001b[1;32m   1442\u001b[0m \u001b[38;5;66;03m# Slices are not valid keys passed in by the user,\u001b[39;00m\n\u001b[1;32m   1443\u001b[0m \u001b[38;5;66;03m# even though they are hashable in Python 3.12\u001b[39;00m\n\u001b[1;32m   1444\u001b[0m contains_slice \u001b[38;5;241m=\u001b[39m \u001b[38;5;28;01mFalse\u001b[39;00m\n",
      "\u001b[0;31mIndexingError\u001b[0m: Too many indexers"
     ]
    },
    {
     "data": {
      "image/png": "[encoded data removed]",
      "text/plain": [
       "<Figure size 640x480 with 9 Axes>"
      ]
     },
     "metadata": {},
     "output_type": "display_data"
    }
   ],
   "source": [
    "new_group = df.groupby(['Sex', 'Pclass'])\n",
    "new_group.boxplot()"
   ]
  },
  {
   "cell_type": "markdown",
   "metadata": {},
   "source": [
    "## Selecting information from grouped objects\n",
    "\n",
    "Since the resulting object returned is a DataFrame, you can also slice a selection of columns you're interested in from the DataFrame returned. \n",
    "\n",
    "The example below demonstrates the syntax for returning the mean of the `Survived` class for every combination of `Sex` and `Pclass`:"
   ]
  },
  {
   "cell_type": "code",
   "execution_count": 14,
   "metadata": {},
   "outputs": [
    {
     "data": {
      "text/plain": [
       "Sex     Pclass\n",
       "female  1         0.811966\n",
       "        2         0.722689\n",
       "        3         0.466216\n",
       "        ?         0.576271\n",
       "male    1         0.415094\n",
       "        2         0.258503\n",
       "        3         0.151436\n",
       "        ?         0.376623\n",
       "Name: Survived, dtype: float64"
      ]
     },
     "execution_count": 14,
     "metadata": {},
     "output_type": "execute_result"
    }
   ],
   "source": [
    "df.groupby(['Sex', 'Pclass'])['Survived'].mean()"
   ]
  },
  {
   "cell_type": "markdown",
   "metadata": {},
   "source": [
    "The above example slices by column, but you can also slice by index. Take a look:"
   ]
  },
  {
   "cell_type": "code",
   "execution_count": 15,
   "metadata": {},
   "outputs": [
    {
     "name": "stdout",
     "output_type": "stream",
     "text": [
      "Pclass\n",
      "1    0.811966\n",
      "2    0.722689\n",
      "3    0.466216\n",
      "?    0.576271\n",
      "Name: Survived, dtype: float64\n"
     ]
    }
   ],
   "source": [
    "grouped = df.groupby(['Sex', 'Pclass'])['Survived'].mean()\n",
    "print(grouped['female'])"
   ]
  },
  {
   "cell_type": "code",
   "execution_count": 18,
   "metadata": {},
   "outputs": [
    {
     "name": "stdout",
     "output_type": "stream",
     "text": [
      "0.7226890756302521\n"
     ]
    },
    {
     "name": "stderr",
     "output_type": "stream",
     "text": [
      "/var/folders/pn/v9tvzf9s5ms7zcp53821ct0m0000gn/T/ipykernel_4712/3206576291.py:1: FutureWarning: Series.__getitem__ treating keys as positions is deprecated. In a future version, integer keys will always be treated as labels (consistent with DataFrame behavior). To access a value by position, use `ser.iloc[pos]`\n",
      "  print(grouped['female'][1])\n"
     ]
    }
   ],
   "source": [
    "print(grouped['female'][1])"
   ]
  },
  {
   "cell_type": "markdown",
   "metadata": {},
   "source": [
    "Note that you need to provide only the value `female` as the index, and are returned all the groups where the passenger is female, regardless of the `Pclass` value. The second example shows the results for female passengers with a 1st-class ticket."
   ]
  },
  {
   "cell_type": "markdown",
   "metadata": {},
   "source": [
    "## Summary\n",
    "\n",
    "In this lab, you learned about how to split a DataFrame into subgroups using the `.groupby()` method. You also learned to generate aggregate views of these groups by applying built-in methods to a groupby object."
   ]
  }
 ],
 "metadata": {
  "kernelspec": {
   "display_name": "Python 3 (ipykernel)",
   "language": "python",
   "name": "python3"
  },
  "language_info": {
   "codemirror_mode": {
    "name": "ipython",
    "version": 3
   },
   "file_extension": ".py",
   "mimetype": "text/x-python",
   "name": "python",
   "nbconvert_exporter": "python",
   "pygments_lexer": "ipython3",
   "version": "3.11.5"
  }
 },
 "nbformat": 4,
 "nbformat_minor": 4
}
